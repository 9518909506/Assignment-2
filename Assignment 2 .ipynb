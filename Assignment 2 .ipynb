{
 "cells": [
  {
   "cell_type": "code",
   "execution_count": 1,
   "id": "372533ad-f74f-46f5-9fcc-b11291bb4727",
   "metadata": {},
   "outputs": [],
   "source": [
    "#Q1. How do you comment code in Python? What are the different types of comments?"
   ]
  },
  {
   "cell_type": "code",
   "execution_count": 2,
   "id": "aea44335-83b9-4cf1-94d7-3b9396465410",
   "metadata": {},
   "outputs": [],
   "source": [
    "#Ans\n",
    "# There are two types of comment\n",
    "# 1.single line comment\n",
    "# 2.multi-line comment\n",
    "# 1.single line comment:-\n",
    "#                       which is perfered by using '#' in the starting of the comment.\n",
    "# example\n",
    "#       '#my name is vipin patil.'\n",
    "# 2.multi-line comment:-\n",
    "#                       which is perfered by using triple courts(\"\"\"   \"\"\"\").\n",
    "# example\n",
    "#        \"\"\"\" I am vipin patil\n",
    "#             from pune,maharashtra\"\"\"\n",
    "           "
   ]
  },
  {
   "cell_type": "code",
   "execution_count": 3,
   "id": "6c5c49cb-006f-462d-b9d4-fceb11ddee61",
   "metadata": {},
   "outputs": [],
   "source": [
    "# what are the varible in python?How do you declare and assign  value to varibles?"
   ]
  },
  {
   "cell_type": "code",
   "execution_count": 12,
   "id": "deb73bb0-b9ad-41b3-8767-1efb530e0f43",
   "metadata": {},
   "outputs": [
    {
     "name": "stdout",
     "output_type": "stream",
     "text": [
      "vipin\n",
      "21\n",
      "[1, 2, 3, 'pwskills', (2+3j)]\n"
     ]
    }
   ],
   "source": [
    "#Ans\n",
    "\"\"\" A python variable is stored and manipulate the data in memory location,\n",
    " every value python has datatypes,there are differnt datatype ,like 'string','integere','float','list','tuple','dictonary',etc.\"\"\"\n",
    " #example-\n",
    "name=\"vipin\"\n",
    "age = 21\n",
    "s=[1,2,3,\"pwskills\",3j+2]                                  \n",
    "\"\"\" we have made  three value name,age and s.we have assign value 'vipin',19,[1,2,3,\"pwskills\",3j+23] respectiviley.\n",
    " you can used print command and assign value\n",
    " example-\n",
    " \"\"\"\n",
    "print(name)\n",
    "print(age)\n",
    "print(s)\n",
    " "
   ]
  },
  {
   "cell_type": "code",
   "execution_count": 1,
   "id": "21e87f02-ec95-4748-bc5a-878214b58448",
   "metadata": {},
   "outputs": [],
   "source": [
    "# Q3.How do you convert one data type to another in python?"
   ]
  },
  {
   "cell_type": "code",
   "execution_count": 2,
   "id": "a93e06d6-0b67-4f56-865b-b73c2c93f42f",
   "metadata": {},
   "outputs": [
    {
     "name": "stdout",
     "output_type": "stream",
     "text": [
      "200\n",
      "<class 'int'>\n",
      "20.0\n",
      "<class 'float'>\n"
     ]
    }
   ],
   "source": [
    "\"\"\"Ans\n",
    "1.int()- this function is convert to integer datatype.\n",
    "example-\"\"\"\n",
    "str_number=\"200\"\n",
    "number=int(str_number)\n",
    "print(number)\n",
    "print(type(number))\n",
    "#converted into string number to integer number\n",
    "# 2.float()- this function is convert to float datatype.\n",
    "# example\n",
    "integer=20\n",
    "float_number=float(integer)\n",
    "print(float_number)\n",
    "print(type(float_number))\n",
    "#converted into integer number to float  value.\n",
    "#same way we can do type conversion with list-list(),tuple-tuple(),set-set(),dict-dict(),etc\n",
    " "
   ]
  },
  {
   "cell_type": "code",
   "execution_count": 3,
   "id": "d72aaa79-8058-42f7-bce1-be12bdb71c97",
   "metadata": {},
   "outputs": [],
   "source": [
    "#Q4. How do you write and execute a Python script from the command line?"
   ]
  },
  {
   "cell_type": "code",
   "execution_count": 5,
   "id": "8ece4f9d-2d71-4ecc-9681-07ad395a25d0",
   "metadata": {},
   "outputs": [],
   "source": [
    "# ANSWER - To write and execute a Python script from the command line we need to follow some steps -\n",
    " #1. first we need to open our code editor like Pycham, VScode, jupyter notebook ore any other editor.\n",
    " #2. Write the python code in the editor and save the file with 'name.py' NOTE - we have to use '.py' in the last of the name by which you are saving\n",
    " #3. once the file is saved to the system open the commands prompt or terminal in your operating system.\n",
    " #4. Once the command prompt opens navigate to the directory where you have saved your python file using 'cd' command\n",
    "   # example -  dc documents\n",
    " #5. Once you are in the correct directory, execute your python programe using your file name.\n",
    " #   example - name.py\n",
    "   \n",
    " #NOTE- AFTER DOING THIS YOUR PROGRAM WILL RUN\n",
    "\n",
    " #THIS WAS THE STEPS BY WHICH YOU CAN WRITE AND EXECUTE PYTHON SCRIPT FROM THE COMMAND LINE"
   ]
  },
  {
   "cell_type": "code",
   "execution_count": 6,
   "id": "317b80b7-114d-41cb-b351-dc387b8cb53d",
   "metadata": {},
   "outputs": [],
   "source": [
    "# Q5. Given list my_list=[1,2,3,4,5],write the code  to slice the list and obtain the sub_list[2,3]."
   ]
  },
  {
   "cell_type": "code",
   "execution_count": 8,
   "id": "9b83a891-79b7-42e7-b118-49ead1cbadce",
   "metadata": {},
   "outputs": [
    {
     "name": "stdout",
     "output_type": "stream",
     "text": [
      "[2, 3]\n"
     ]
    }
   ],
   "source": [
    "my_list=[1,2,3,4]\n",
    "sub_list=my_list[1:3]\n",
    "print(sub_list)"
   ]
  },
  {
   "cell_type": "code",
   "execution_count": 1,
   "id": "b6287f0f-da02-4b7c-9896-d9c0a57c21da",
   "metadata": {},
   "outputs": [],
   "source": [
    "# Q6.What is a complex number in mathematics,and how is it reprsent  in python?"
   ]
  },
  {
   "cell_type": "code",
   "execution_count": 3,
   "id": "2c693e39-f295-4ab3-8602-dfaed9c94c68",
   "metadata": {},
   "outputs": [
    {
     "name": "stdout",
     "output_type": "stream",
     "text": [
      "(3+5j)\n",
      "<class 'complex'>\n"
     ]
    }
   ],
   "source": [
    "\"\"\"Ans \n",
    " In mathematics,The complex number are expressed in the from of the a+bi where a,b are real number and 'i' is imaginary number\n",
    " for example 2+3i,2 is real number and 3i are imaginary number.\n",
    " In python, complex numbers are supported as a built-in data type. we can represent complex number\n",
    " s=3+5j\n",
    "\"\"\"\n",
    "s=3+5j\n",
    "print(s)\n",
    "print(type(s))"
   ]
  },
  {
   "cell_type": "code",
   "execution_count": 4,
   "id": "bc1e2d8c-ddcb-4195-b15f-23b000ca9b44",
   "metadata": {},
   "outputs": [],
   "source": [
    "# Q7.What is the correct way to declare  a variable named age and assign the value 25 to it?"
   ]
  },
  {
   "cell_type": "code",
   "execution_count": 6,
   "id": "9d1f1d43-9f91-4c10-a1ba-53f42962ce12",
   "metadata": {},
   "outputs": [
    {
     "name": "stdout",
     "output_type": "stream",
     "text": [
      "25\n"
     ]
    }
   ],
   "source": [
    "# Ans\n",
    "age=25\n",
    "print(age)"
   ]
  },
  {
   "cell_type": "code",
   "execution_count": 7,
   "id": "8c9f5e48-e128-4b80-b610-c2e77eae8c34",
   "metadata": {},
   "outputs": [],
   "source": [
    "# Q8.Declare a variable named price and assign the value 9.99 to it . What data type does the variable belong to?"
   ]
  },
  {
   "cell_type": "code",
   "execution_count": 8,
   "id": "e7562cc2-e854-46f6-9c06-a8e52e1114f6",
   "metadata": {},
   "outputs": [
    {
     "name": "stdout",
     "output_type": "stream",
     "text": [
      "<class 'float'>\n"
     ]
    }
   ],
   "source": [
    "# Ans\n",
    "price=9.99\n",
    "print(type(price))"
   ]
  },
  {
   "cell_type": "code",
   "execution_count": 9,
   "id": "39bf2657-d114-478f-9f44-b29e50917740",
   "metadata": {},
   "outputs": [],
   "source": [
    "# Q9.Create  a variable named name and assign your full name to it as a string .how would  you print  the value  of thois variable?"
   ]
  },
  {
   "cell_type": "code",
   "execution_count": 11,
   "id": "2c1c3bed-2325-45a5-bbb1-72dcd0bce266",
   "metadata": {},
   "outputs": [
    {
     "name": "stdout",
     "output_type": "stream",
     "text": [
      "Vipin Patil\n"
     ]
    }
   ],
   "source": [
    "#Ans\n",
    "name=\"Vipin Patil\"\n",
    "print(name)\n",
    "# using print() function"
   ]
  },
  {
   "cell_type": "code",
   "execution_count": 12,
   "id": "ba423048-3fe0-4baf-a907-698e891cd563",
   "metadata": {},
   "outputs": [],
   "source": [
    "# Q10.Given the string \"hellow ,world\" , extract the sub_string=\"world\"?"
   ]
  },
  {
   "cell_type": "code",
   "execution_count": 23,
   "id": "c46279ba-9413-41fa-97f5-602e5dafa51d",
   "metadata": {},
   "outputs": [
    {
     "name": "stdout",
     "output_type": "stream",
     "text": [
      " world\n"
     ]
    }
   ],
   "source": [
    "# Ans\n",
    "string=\"Hellow , world\"\n",
    "sub_string=string[8:14]\n",
    "print(sub_string)"
   ]
  },
  {
   "cell_type": "code",
   "execution_count": 25,
   "id": "9f1f4ac9-72a1-425e-afce-1a46e89c0ba1",
   "metadata": {},
   "outputs": [],
   "source": [
    "# Q11.Create a variable named \"is_student and assign it a boolean  value indicating whether you are currently  a student are not."
   ]
  },
  {
   "cell_type": "code",
   "execution_count": 27,
   "id": "d20160f5-99a7-4d4c-abdd-836bcadde891",
   "metadata": {},
   "outputs": [
    {
     "name": "stdout",
     "output_type": "stream",
     "text": [
      "<class 'bool'>\n"
     ]
    }
   ],
   "source": [
    "# Ans\n",
    "is_student=True\n",
    "print(type(is_student))"
   ]
  },
  {
   "cell_type": "code",
   "execution_count": null,
   "id": "5633440d-c6b6-4ebd-b030-a3f6f1af211f",
   "metadata": {},
   "outputs": [],
   "source": []
  }
 ],
 "metadata": {
  "kernelspec": {
   "display_name": "Python 3 (ipykernel)",
   "language": "python",
   "name": "python3"
  },
  "language_info": {
   "codemirror_mode": {
    "name": "ipython",
    "version": 3
   },
   "file_extension": ".py",
   "mimetype": "text/x-python",
   "name": "python",
   "nbconvert_exporter": "python",
   "pygments_lexer": "ipython3",
   "version": "3.10.8"
  }
 },
 "nbformat": 4,
 "nbformat_minor": 5
}
